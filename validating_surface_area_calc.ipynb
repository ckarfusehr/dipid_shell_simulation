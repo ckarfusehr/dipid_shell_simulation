{
 "cells": [
  {
   "cell_type": "markdown",
   "metadata": {},
   "source": [
    "## Parameters extracted from a a=21° sim"
   ]
  },
  {
   "cell_type": "code",
   "execution_count": 1,
   "metadata": {},
   "outputs": [
    {
     "name": "stdout",
     "output_type": "stream",
     "text": [
      "Area of the pentagon: 21255.39\n",
      "Area of the hexagon: 33781.37\n",
      "Area of both: 55036.76\n"
     ]
    }
   ],
   "source": [
    "#closed_data.info()\n",
    "\n",
    "#subset_data = closed_data[(closed_data['nodes_5'] == 12) & (closed_data['nodes_5'] == 20)]\n",
    "# subset_data = closed_data[(closed_data['nodes_5'] == 12) & (closed_data['a'] == 21)]\n",
    "# print(subset_data[\"surface_triangulation\"].mean())\n",
    "# print(subset_data[\"surface_fit\"].mean())\n",
    "# print(subset_data[\"nodes_5\"].mean())\n",
    "# print(subset_data[\"nodes_6\"].mean())\n",
    "\n",
    "############ Output from above:\n",
    "# 58880.197524033545\n",
    "# 61392.57289165943\n",
    "# 12.0\n",
    "# 19.924050632911392\n",
    "\n",
    "\n",
    "############# geometry check\n",
    "edge_length = 40.9376652\n",
    "import math\n",
    "\n",
    "import math\n",
    "\n",
    "def polygon_area(h, n):\n",
    "    \"\"\"\n",
    "    Calculate the area of a regular polygon based on the apothem (h) and number of sides (n).\n",
    "\n",
    "    Parameters:\n",
    "        h (float): Distance from the center to the midpoint of one side (apothem).\n",
    "        n (int): Number of sides (e.g., 5 for pentagon, 6 for hexagon).\n",
    "\n",
    "    Returns:\n",
    "        float: Area of the polygon.\n",
    "    \"\"\"\n",
    "    if n < 3:\n",
    "        raise ValueError(\"A polygon must have at least 3 sides.\")\n",
    "\n",
    "    # Compute side length based on apothem\n",
    "    s = 2 * h * math.tan(math.pi / n)\n",
    "\n",
    "    # Compute perimeter\n",
    "    perimeter = n * s\n",
    "\n",
    "    # Compute area\n",
    "    area = 0.5 * perimeter * h\n",
    "\n",
    "    return area\n",
    "\n",
    "# Example usage\n",
    "if __name__ == \"__main__\":\n",
    "    h= 40.93766524698566 + 40.93766524698566*0.0787859182112294\n",
    "    h_pentagon =  h/2  # Example apothem for a pentagon\n",
    "    h_hexagon =  h/2   # Example apothem for a hexagon\n",
    "\n",
    "    area_pentagon = polygon_area(h_pentagon, 5)*12\n",
    "    area_hexagon = polygon_area(h_hexagon, 6)*20\n",
    "\n",
    "    print(f\"Area of the pentagon: {area_pentagon:.2f}\")\n",
    "    print(f\"Area of the hexagon: {area_hexagon:.2f}\")\n",
    "    print(f\"Area of both: {area_hexagon+area_pentagon:.2f}\")\n",
    "\n"
   ]
  },
  {
   "cell_type": "code",
   "execution_count": null,
   "metadata": {},
   "outputs": [],
   "source": []
  },
  {
   "cell_type": "code",
   "execution_count": null,
   "metadata": {},
   "outputs": [],
   "source": []
  }
 ],
 "metadata": {
  "kernelspec": {
   "display_name": "hiv_assembly_3",
   "language": "python",
   "name": "python3"
  },
  "language_info": {
   "codemirror_mode": {
    "name": "ipython",
    "version": 3
   },
   "file_extension": ".py",
   "mimetype": "text/x-python",
   "name": "python",
   "nbconvert_exporter": "python",
   "pygments_lexer": "ipython3",
   "version": "3.10.15"
  }
 },
 "nbformat": 4,
 "nbformat_minor": 2
}
